{
 "cells": [
  {
   "cell_type": "code",
   "execution_count": 8,
   "metadata": {},
   "outputs": [],
   "source": [
    "import tensorflow as tf\n",
    "import numpy as np"
   ]
  },
  {
   "cell_type": "code",
   "execution_count": 11,
   "metadata": {
    "scrolled": true
   },
   "outputs": [
    {
     "data": {
      "text/plain": [
       "'2.1.0'"
      ]
     },
     "execution_count": 11,
     "metadata": {},
     "output_type": "execute_result"
    }
   ],
   "source": [
    "tf.__version__"
   ]
  },
  {
   "cell_type": "code",
   "execution_count": 12,
   "metadata": {},
   "outputs": [],
   "source": [
    "# Crear 100 puntos falsos x, y en numpy, y = x * 0.1 + 0.3\n",
    "x_data = np.random.rand(100).astype(np.float32)\n",
    "y_data = x_data * 0.1 + 0.3"
   ]
  },
  {
   "cell_type": "code",
   "execution_count": 13,
   "metadata": {},
   "outputs": [
    {
     "data": {
      "text/plain": [
       "array([0.7886882 , 0.06609956, 0.57604015, 0.5261165 , 0.06602916,\n",
       "       0.12560484, 0.3624307 , 0.55958587, 0.02705918, 0.6051665 ,\n",
       "       0.6922677 , 0.13126813, 0.12949382, 0.20586647, 0.20469585,\n",
       "       0.3685285 , 0.7123698 , 0.92074364, 0.8200054 , 0.4876968 ,\n",
       "       0.961578  , 0.8249973 , 0.7547275 , 0.08862113, 0.11066783,\n",
       "       0.5084528 , 0.7804578 , 0.9440287 , 0.9723287 , 0.8740328 ,\n",
       "       0.04229153, 0.47225598, 0.72346884, 0.9968568 , 0.53799814,\n",
       "       0.5935453 , 0.10155954, 0.38433194, 0.89628905, 0.21796158,\n",
       "       0.6144896 , 0.54621893, 0.9354267 , 0.19031754, 0.8113068 ,\n",
       "       0.11184265, 0.8024437 , 0.39310944, 0.02223687, 0.30526385,\n",
       "       0.58815914, 0.48137432, 0.04708268, 0.8628204 , 0.42250404,\n",
       "       0.76573634, 0.9601232 , 0.6653603 , 0.7661016 , 0.03369929,\n",
       "       0.17139207, 0.47149476, 0.6186902 , 0.37858936, 0.25877902,\n",
       "       0.07116696, 0.16709633, 0.04674007, 0.46662343, 0.32391885,\n",
       "       0.93900305, 0.6257797 , 0.38060796, 0.5434091 , 0.9895616 ,\n",
       "       0.72370493, 0.04727523, 0.29858205, 0.41568452, 0.37453994,\n",
       "       0.79825455, 0.17211251, 0.2615748 , 0.5684969 , 0.6436006 ,\n",
       "       0.9958524 , 0.28166693, 0.92441183, 0.5822108 , 0.42034695,\n",
       "       0.14099938, 0.66862535, 0.53515834, 0.9950365 , 0.8284008 ,\n",
       "       0.33505487, 0.45281404, 0.50563854, 0.2473392 , 0.717332  ],\n",
       "      dtype=float32)"
      ]
     },
     "execution_count": 13,
     "metadata": {},
     "output_type": "execute_result"
    }
   ],
   "source": [
    "x_data"
   ]
  },
  {
   "cell_type": "code",
   "execution_count": 14,
   "metadata": {},
   "outputs": [
    {
     "data": {
      "text/plain": [
       "array([0.37886882, 0.30660996, 0.35760403, 0.35261166, 0.30660293,\n",
       "       0.3125605 , 0.3362431 , 0.3559586 , 0.30270594, 0.36051667,\n",
       "       0.36922678, 0.31312683, 0.3129494 , 0.32058665, 0.3204696 ,\n",
       "       0.33685285, 0.37123698, 0.39207438, 0.38200057, 0.3487697 ,\n",
       "       0.3961578 , 0.38249975, 0.37547275, 0.30886212, 0.3110668 ,\n",
       "       0.35084528, 0.3780458 , 0.3944029 , 0.3972329 , 0.3874033 ,\n",
       "       0.30422917, 0.3472256 , 0.3723469 , 0.39968568, 0.35379982,\n",
       "       0.35935456, 0.31015596, 0.3384332 , 0.38962892, 0.32179618,\n",
       "       0.36144897, 0.35462192, 0.39354268, 0.31903177, 0.3811307 ,\n",
       "       0.3111843 , 0.38024437, 0.33931094, 0.3022237 , 0.3305264 ,\n",
       "       0.35881594, 0.34813744, 0.30470827, 0.38628206, 0.3422504 ,\n",
       "       0.37657365, 0.39601234, 0.36653605, 0.37661016, 0.30336994,\n",
       "       0.3171392 , 0.3471495 , 0.36186904, 0.33785895, 0.3258779 ,\n",
       "       0.30711672, 0.31670964, 0.30467403, 0.34666234, 0.3323919 ,\n",
       "       0.39390033, 0.36257797, 0.3380608 , 0.3543409 , 0.39895618,\n",
       "       0.3723705 , 0.30472752, 0.3298582 , 0.34156847, 0.33745402,\n",
       "       0.37982547, 0.31721127, 0.32615748, 0.3568497 , 0.36436006,\n",
       "       0.39958525, 0.3281667 , 0.3924412 , 0.35822108, 0.3420347 ,\n",
       "       0.31409994, 0.36686254, 0.35351583, 0.39950365, 0.3828401 ,\n",
       "       0.3335055 , 0.34528142, 0.35056385, 0.32473394, 0.37173322],\n",
       "      dtype=float32)"
      ]
     },
     "execution_count": 14,
     "metadata": {},
     "output_type": "execute_result"
    }
   ],
   "source": [
    "y_data"
   ]
  },
  {
   "cell_type": "code",
   "execution_count": 20,
   "metadata": {},
   "outputs": [],
   "source": [
    "# Tratar de encontrar valores para W y b que puedan calcular y_data = W * x_data + b\n",
    "# Sabemos que W debe ser 0.1 y b 0.3, pero tensorflow intentar'a descubrirlo por nosotros.\n",
    "W = tf.Variable(tf.random.uniform([1], -1.0, 1.0))\n",
    "b = tf.Variable(tf.zeros([1]))\n",
    "y = W * x_data + b"
   ]
  },
  {
   "cell_type": "code",
   "execution_count": 17,
   "metadata": {},
   "outputs": [
    {
     "data": {
      "text/plain": [
       "<tf.Variable 'Variable:0' shape=(1,) dtype=float32, numpy=array([-0.6768935], dtype=float32)>"
      ]
     },
     "execution_count": 17,
     "metadata": {},
     "output_type": "execute_result"
    }
   ],
   "source": [
    "W"
   ]
  },
  {
   "cell_type": "code",
   "execution_count": 19,
   "metadata": {},
   "outputs": [
    {
     "data": {
      "text/plain": [
       "<tf.Variable 'Variable:0' shape=(1,) dtype=float32, numpy=array([0.], dtype=float32)>"
      ]
     },
     "execution_count": 19,
     "metadata": {},
     "output_type": "execute_result"
    }
   ],
   "source": [
    "b"
   ]
  },
  {
   "cell_type": "code",
   "execution_count": 21,
   "metadata": {},
   "outputs": [
    {
     "data": {
      "text/plain": [
       "<tf.Tensor: shape=(100,), dtype=float32, numpy=\n",
       "array([0.28510928, 0.02389487, 0.20823742, 0.19019012, 0.02386942,\n",
       "       0.04540591, 0.13101801, 0.20228924, 0.00978184, 0.21876656,\n",
       "       0.25025347, 0.04745318, 0.04681177, 0.07442034, 0.07399716,\n",
       "       0.13322236, 0.25752035, 0.3328471 , 0.2964304 , 0.17630148,\n",
       "       0.34760866, 0.29823497, 0.27283257, 0.03203637, 0.04000621,\n",
       "       0.18380472, 0.28213403, 0.34126458, 0.351495  , 0.3159612 ,\n",
       "       0.01528831, 0.17071965, 0.26153263, 0.36036187, 0.19448532,\n",
       "       0.21456552, 0.03671358, 0.13893527, 0.3240068 , 0.0787927 ,\n",
       "       0.22213684, 0.19745712, 0.338155  , 0.06879944, 0.29328588,\n",
       "       0.04043091, 0.2900819 , 0.14210832, 0.00803859, 0.11035231,\n",
       "       0.21261843, 0.17401591, 0.0170203 , 0.31190795, 0.15273441,\n",
       "       0.27681226, 0.34708273, 0.24052648, 0.27694428, 0.01218223,\n",
       "       0.06195791, 0.17044447, 0.22365534, 0.13685934, 0.09354813,\n",
       "       0.02572672, 0.06040501, 0.01689645, 0.16868348, 0.11709605,\n",
       "       0.33944783, 0.22621818, 0.13758907, 0.19644137, 0.35772467,\n",
       "       0.26161796, 0.01708991, 0.10793685, 0.15026917, 0.13539548,\n",
       "       0.2885675 , 0.06221835, 0.0945588 , 0.20551056, 0.2326604 ,\n",
       "       0.35999876, 0.10182206, 0.33417314, 0.2104681 , 0.15195464,\n",
       "       0.05097101, 0.2417068 , 0.19345874, 0.3597038 , 0.29946533,\n",
       "       0.1211217 , 0.16369143, 0.18278737, 0.08941266, 0.25931418],\n",
       "      dtype=float32)>"
      ]
     },
     "execution_count": 21,
     "metadata": {},
     "output_type": "execute_result"
    }
   ],
   "source": [
    "y"
   ]
  },
  {
   "cell_type": "code",
   "execution_count": 24,
   "metadata": {},
   "outputs": [
    {
     "ename": "AttributeError",
     "evalue": "module 'tensorflow_core._api.v2.train' has no attribute 'GradientDescentOptimizer'",
     "output_type": "error",
     "traceback": [
      "\u001b[1;31m---------------------------------------------------------------------------\u001b[0m",
      "\u001b[1;31mAttributeError\u001b[0m                            Traceback (most recent call last)",
      "\u001b[1;32m<ipython-input-24-31d8a37c901b>\u001b[0m in \u001b[0;36m<module>\u001b[1;34m\u001b[0m\n\u001b[0;32m      1\u001b[0m \u001b[1;31m# Minimizar los errores de la media cuadrática ...\u001b[0m\u001b[1;33m\u001b[0m\u001b[1;33m\u001b[0m\u001b[1;33m\u001b[0m\u001b[0m\n\u001b[0;32m      2\u001b[0m \u001b[0mloss\u001b[0m \u001b[1;33m=\u001b[0m \u001b[0mtf\u001b[0m\u001b[1;33m.\u001b[0m\u001b[0mreduce_mean\u001b[0m\u001b[1;33m(\u001b[0m\u001b[0mtf\u001b[0m\u001b[1;33m.\u001b[0m\u001b[0msquare\u001b[0m\u001b[1;33m(\u001b[0m\u001b[0my\u001b[0m \u001b[1;33m-\u001b[0m \u001b[0my_data\u001b[0m\u001b[1;33m)\u001b[0m\u001b[1;33m)\u001b[0m\u001b[1;33m\u001b[0m\u001b[1;33m\u001b[0m\u001b[0m\n\u001b[1;32m----> 3\u001b[1;33m \u001b[0moptimizer\u001b[0m \u001b[1;33m=\u001b[0m \u001b[0mtf\u001b[0m\u001b[1;33m.\u001b[0m\u001b[0mtrain\u001b[0m\u001b[1;33m.\u001b[0m\u001b[0mGradientDescentOptimizer\u001b[0m\u001b[1;33m(\u001b[0m\u001b[1;36m0.5\u001b[0m\u001b[1;33m)\u001b[0m\u001b[1;33m\u001b[0m\u001b[1;33m\u001b[0m\u001b[0m\n\u001b[0m\u001b[0;32m      4\u001b[0m \u001b[0mtrain\u001b[0m \u001b[1;33m=\u001b[0m \u001b[0moptimizer\u001b[0m\u001b[1;33m.\u001b[0m\u001b[0mminimize\u001b[0m\u001b[1;33m(\u001b[0m\u001b[0mloss\u001b[0m\u001b[1;33m)\u001b[0m\u001b[1;33m\u001b[0m\u001b[1;33m\u001b[0m\u001b[0m\n",
      "\u001b[1;31mAttributeError\u001b[0m: module 'tensorflow_core._api.v2.train' has no attribute 'GradientDescentOptimizer'"
     ]
    }
   ],
   "source": [
    "# Minimizar los errores de la media cuadrática ...\n",
    "loss = tf.reduce_mean(tf.square(y - y_data))\n",
    "optimizer = tf.train.GradientDescentOptimizer(0.5)\n",
    "train = optimizer.minimize(loss)"
   ]
  },
  {
   "cell_type": "code",
   "execution_count": null,
   "metadata": {},
   "outputs": [],
   "source": []
  }
 ],
 "metadata": {
  "kernelspec": {
   "display_name": "Python 3",
   "language": "python",
   "name": "python3"
  },
  "language_info": {
   "codemirror_mode": {
    "name": "ipython",
    "version": 3
   },
   "file_extension": ".py",
   "mimetype": "text/x-python",
   "name": "python",
   "nbconvert_exporter": "python",
   "pygments_lexer": "ipython3",
   "version": "3.7.6"
  }
 },
 "nbformat": 4,
 "nbformat_minor": 4
}
